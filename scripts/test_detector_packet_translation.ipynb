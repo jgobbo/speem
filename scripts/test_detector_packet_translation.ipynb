{
 "cells": [
  {
   "cell_type": "code",
   "execution_count": 10,
   "metadata": {},
   "outputs": [],
   "source": [
    "import struct\n",
    "import bitstruct\n",
    "from pcapng import FileScanner\n",
    "from pcapng.blocks import EnhancedPacket"
   ]
  },
  {
   "cell_type": "code",
   "execution_count": 3,
   "metadata": {},
   "outputs": [],
   "source": [
    "PACKET_HEADER_LENGTH = 42\n",
    "SOURCE_OFFSET = 26\n",
    "SOURCE_LENGTH = 4\n",
    "\n",
    "ETHER_HEADER_LENGTH = 4\n",
    "ETHER_BODY_OFFSET = 2\n",
    "EVENT_STRIDE_BYTES = 12\n",
    "\n",
    "CHECK_XY_RANGE = range(85, 95)\n",
    "CHECK_QT_RANGE = range(125, 135)"
   ]
  },
  {
   "cell_type": "code",
   "execution_count": 4,
   "metadata": {},
   "outputs": [],
   "source": [
    "def translate_msg_to_photon_list(\n",
    "    msg: bytes,\n",
    ") -> tuple[int, list[tuple[int, int, int]], int]:\n",
    "    header_bytes, msg = (\n",
    "        msg[:ETHER_HEADER_LENGTH],\n",
    "        msg[ETHER_HEADER_LENGTH + ETHER_BODY_OFFSET :],\n",
    "    )\n",
    "    n_events, packet_id = struct.unpack(\"<HH\", header_bytes)\n",
    "    n_events //= 2\n",
    "\n",
    "    events = []\n",
    "    n_failed = 0\n",
    "\n",
    "    # event_data = msg[0:EVENT_STRIDE_BYTES * n_events]\n",
    "    # all_data = bitstruct.unpack(\"u16\"*n_events*3, event_data)\n",
    "    for i in range(n_events):\n",
    "        xy_data = msg[\n",
    "            EVENT_STRIDE_BYTES * i : EVENT_STRIDE_BYTES * i + EVENT_STRIDE_BYTES // 2\n",
    "        ]\n",
    "        qt_data = msg[\n",
    "            EVENT_STRIDE_BYTES * i\n",
    "            + EVENT_STRIDE_BYTES // 2 : EVENT_STRIDE_BYTES * (i + 1)\n",
    "        ]\n",
    "        x, y, check_xy = bitstruct.unpack(\"u16u16u16<\", xy_data)\n",
    "        q, t, check_qt = bitstruct.unpack(\"u16u16u16<\", qt_data)\n",
    "        # Sometimes xy and qt are swapped so we can check static bytes to see if they need to be swapped back\n",
    "\n",
    "        if check_qt in CHECK_QT_RANGE:\n",
    "            events.append((x, y, t))\n",
    "        else:\n",
    "            events.append((q, t, y))\n",
    "\n",
    "        # It seems like the values have changed after a long downtime\n",
    "        # TODO: figure out a robust way to do this check\n",
    "        # if (check_xy in CHECK_XY_RANGE) and (check_qt in CHECK_QT_RANGE):\n",
    "        #     events.append((x, y, t))\n",
    "        # elif (check_xy in CHECK_QT_RANGE) and (check_qt in CHECK_XY_RANGE):\n",
    "        #     events.append((q, t, y))\n",
    "        # else:\n",
    "        #     n_failed += 1\n",
    "\n",
    "    return packet_id, events, n_failed"
   ]
  },
  {
   "cell_type": "code",
   "execution_count": 16,
   "metadata": {},
   "outputs": [
    {
     "ename": "",
     "evalue": "",
     "output_type": "error",
     "traceback": [
      "\u001b[1;31mThe Kernel crashed while executing code in the current cell or a previous cell. \n",
      "\u001b[1;31mPlease review the code in the cell(s) to identify a possible cause of the failure. \n",
      "\u001b[1;31mClick <a href='https://aka.ms/vscodeJupyterKernelCrash'>here</a> for more info. \n",
      "\u001b[1;31mView Jupyter <a href='command:jupyter.viewOutput'>log</a> for further details."
     ]
    }
   ],
   "source": [
    "packet_path = r\"C:\\Users\\SPEEM\\Documents\\speem\\speem\\scripts\\correct packets.pcapng\"\n",
    "\n",
    "with open(packet_path, \"rb\") as f:\n",
    "    file_scanner = FileScanner(f)\n",
    "    for block in file_scanner:\n",
    "        if isinstance(block, EnhancedPacket):\n",
    "            # header =block.\n",
    "            # msg = block.packet_data[]\n",
    "            packet_id, events, n_failed = translate_msg_to_photon_list(\n",
    "                block.packet_data\n",
    "            )\n",
    "            print(packet_id, n_failed)"
   ]
  }
 ],
 "metadata": {
  "kernelspec": {
   "display_name": "speem",
   "language": "python",
   "name": "python3"
  },
  "language_info": {
   "codemirror_mode": {
    "name": "ipython",
    "version": 3
   },
   "file_extension": ".py",
   "mimetype": "text/x-python",
   "name": "python",
   "nbconvert_exporter": "python",
   "pygments_lexer": "ipython3",
   "version": "3.11.2"
  },
  "orig_nbformat": 4
 },
 "nbformat": 4,
 "nbformat_minor": 2
}
