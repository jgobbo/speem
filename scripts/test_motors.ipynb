{
 "cells": [
  {
   "cell_type": "code",
   "execution_count": null,
   "id": "072fa3f4",
   "metadata": {},
   "outputs": [
    {
     "ename": "",
     "evalue": "",
     "output_type": "error",
     "traceback": [
      "\u001b[1;31mRunning cells with 'speem (Python 3.12.12)' requires the ipykernel package.\n",
      "\u001b[1;31mInstall 'ipykernel' into the Python environment. \n",
      "\u001b[1;31mCommand: '\"c:/Users/SPEEM/Documents/Python Packages/speem/.venv/Scripts/python.exe\" -m pip install ipykernel -U --force-reinstall'"
     ]
    }
   ],
   "source": [
    "from speem.instruments.motors.drivers import (\n",
    "    Automation1Driver,\n",
    "    MdriveDriver,\n",
    "    CONTROLLER,\n",
    "    MDRIVE_COMM,\n",
    ")\n",
    "from speem.instruments.motors.specs import RealAxis, REAL_AXIS_SPECS\n",
    "from pymdrive import emergency_stop"
   ]
  },
  {
   "cell_type": "code",
   "execution_count": 2,
   "id": "e28d437a",
   "metadata": {},
   "outputs": [],
   "source": [
    "runtime = CONTROLLER.runtime\n",
    "await MDRIVE_COMM.start()\n",
    "\n",
    "x = Automation1Driver(RealAxis.x, **REAL_AXIS_SPECS[RealAxis.x])\n",
    "y = Automation1Driver(RealAxis.y, **REAL_AXIS_SPECS[RealAxis.y])\n",
    "Z = Automation1Driver(RealAxis.Z, **REAL_AXIS_SPECS[RealAxis.Z])\n",
    "\n",
    "X = MdriveDriver(RealAxis.X, **REAL_AXIS_SPECS[RealAxis.X])\n",
    "Y = MdriveDriver(RealAxis.Y, **REAL_AXIS_SPECS[RealAxis.Y])\n",
    "\n",
    "Theta = Automation1Driver(RealAxis.Theta, **REAL_AXIS_SPECS[RealAxis.Theta])"
   ]
  },
  {
   "cell_type": "code",
   "execution_count": 5,
   "id": "5ef0d44d",
   "metadata": {},
   "outputs": [],
   "source": [
    "await MDRIVE_COMM.stop()"
   ]
  },
  {
   "cell_type": "code",
   "execution_count": 7,
   "id": "45cf769d",
   "metadata": {},
   "outputs": [
    {
     "data": {
      "text/plain": [
       "0.0"
      ]
     },
     "execution_count": 7,
     "metadata": {},
     "output_type": "execute_result"
    }
   ],
   "source": [
    "X.enable()\n",
    "await X.get_position()"
   ]
  },
  {
   "cell_type": "code",
   "execution_count": 8,
   "id": "77c97ea9",
   "metadata": {},
   "outputs": [
    {
     "name": "stdout",
     "output_type": "stream",
     "text": [
      "False\n",
      "False\n"
     ]
    }
   ],
   "source": [
    "print(await X.is_homed())\n",
    "print(await Y.is_homed())"
   ]
  },
  {
   "cell_type": "code",
   "execution_count": 3,
   "id": "1f92d50e",
   "metadata": {},
   "outputs": [
    {
     "data": {
      "text/plain": [
       "-50.809999984459864"
      ]
     },
     "execution_count": 3,
     "metadata": {},
     "output_type": "execute_result"
    }
   ],
   "source": [
    "Y.enable()\n",
    "await Y.get_position()"
   ]
  },
  {
   "cell_type": "code",
   "execution_count": 8,
   "id": "28267095",
   "metadata": {},
   "outputs": [],
   "source": [
    "await X.move_relative(2)"
   ]
  },
  {
   "cell_type": "code",
   "execution_count": 61,
   "id": "968cc442",
   "metadata": {},
   "outputs": [],
   "source": [
    "await x.home()"
   ]
  },
  {
   "cell_type": "code",
   "execution_count": 119,
   "id": "a2f0cb14",
   "metadata": {},
   "outputs": [],
   "source": [
    "await x.move_relative(-0.1)"
   ]
  },
  {
   "cell_type": "code",
   "execution_count": 67,
   "id": "0da8d746",
   "metadata": {},
   "outputs": [],
   "source": [
    "await y.move_relative(18.5)"
   ]
  },
  {
   "cell_type": "code",
   "execution_count": 3,
   "id": "d98805cd",
   "metadata": {},
   "outputs": [],
   "source": [
    "await Y.home()"
   ]
  },
  {
   "cell_type": "code",
   "execution_count": 4,
   "id": "67980574",
   "metadata": {},
   "outputs": [
    {
     "name": "stdout",
     "output_type": "stream",
     "text": [
      "moving real Y to 0\n"
     ]
    }
   ],
   "source": [
    "await Y.move_absolute(0)"
   ]
  },
  {
   "cell_type": "code",
   "execution_count": 94,
   "id": "eb15da2d",
   "metadata": {},
   "outputs": [],
   "source": [
    "await Y.move_relative(-0.1)"
   ]
  },
  {
   "cell_type": "code",
   "execution_count": 95,
   "id": "ce0b9c59",
   "metadata": {},
   "outputs": [
    {
     "name": "stdout",
     "output_type": "stream",
     "text": [
      "-45.52002086600077\n"
     ]
    },
    {
     "data": {
      "text/plain": [
       "(-50, 0)"
      ]
     },
     "execution_count": 95,
     "metadata": {},
     "output_type": "execute_result"
    }
   ],
   "source": [
    "print(await Y.get_position())\n",
    "Y.soft_limits"
   ]
  },
  {
   "cell_type": "code",
   "execution_count": 114,
   "id": "e653791d",
   "metadata": {},
   "outputs": [
    {
     "data": {
      "text/plain": [
       "197.99999999999997"
      ]
     },
     "execution_count": 114,
     "metadata": {},
     "output_type": "execute_result"
    }
   ],
   "source": [
    "Theta.enable()\n",
    "await Theta.get_position()"
   ]
  },
  {
   "cell_type": "code",
   "execution_count": 113,
   "id": "8a50493c",
   "metadata": {},
   "outputs": [],
   "source": [
    "await Theta.move_relative(0.5)"
   ]
  },
  {
   "cell_type": "code",
   "execution_count": 5,
   "id": "e9d14342",
   "metadata": {},
   "outputs": [
    {
     "name": "stdout",
     "output_type": "stream",
     "text": [
      "0.00171\n",
      "(-5.0, 0.1)\n",
      "[]\n",
      "False\n"
     ]
    }
   ],
   "source": [
    "print(await x.get_position())\n",
    "print(x.soft_limits)\n",
    "print(x.faults)\n",
    "print(await x.is_moving())"
   ]
  },
  {
   "cell_type": "code",
   "execution_count": 55,
   "id": "d18fa85e",
   "metadata": {},
   "outputs": [
    {
     "data": {
      "text/plain": [
       "20.499996444868167"
      ]
     },
     "execution_count": 55,
     "metadata": {},
     "output_type": "execute_result"
    }
   ],
   "source": [
    "await X.get_position()"
   ]
  },
  {
   "cell_type": "code",
   "execution_count": 54,
   "id": "c2235a33",
   "metadata": {},
   "outputs": [],
   "source": [
    "await X.move_relative(0.5)"
   ]
  },
  {
   "cell_type": "code",
   "execution_count": 48,
   "id": "648cd928",
   "metadata": {},
   "outputs": [
    {
     "name": "stdout",
     "output_type": "stream",
     "text": [
      "-10000.0 200.0\n"
     ]
    }
   ],
   "source": [
    "soft_limits = x.soft_limits\n",
    "print(soft_limits[0] * x.unit_ratio, soft_limits[1] * x.unit_ratio)"
   ]
  },
  {
   "cell_type": "code",
   "execution_count": null,
   "id": "4e330f84",
   "metadata": {},
   "outputs": [],
   "source": [
    "import serial, sys, os, psutil\n",
    "\n",
    "\n",
    "def kill_process_using_port(port):\n",
    "    \"\"\"Force kill any process using the specified port.\"\"\"\n",
    "    try:\n",
    "        # Get list of all running processes\n",
    "        for proc in psutil.process_iter([\"pid\", \"name\"]):\n",
    "            try:\n",
    "                # Get connections opened by the process\n",
    "                connections = proc.net_connections()\n",
    "                for conn in connections():\n",
    "                    if conn.laddr.port == int(port.replace(\"COM\", \"\")):\n",
    "                        print(\n",
    "                            f\"Killing process {proc.info['name']} (PID: {proc.info['pid']})\"\n",
    "                        )\n",
    "                        proc.terminate()\n",
    "                        proc.wait(timeout=3)\n",
    "                        proc.kill()\n",
    "            except (psutil.NoSuchProcess, psutil.AccessDenied, psutil.ZombieProcess):\n",
    "                pass\n",
    "    except Exception as e:\n",
    "        print(f\"Error killing processes: {e}\")\n",
    "\n",
    "\n",
    "def force_open_serial_port(port=\"COM3\", baudrate=9600):\n",
    "    \"\"\"Force close and reopen a serial port.\"\"\"\n",
    "    try:\n",
    "        # First, kill any processes using the port\n",
    "        kill_process_using_port(port)\n",
    "\n",
    "        # Wait briefly to ensure processes are terminated\n",
    "        import time\n",
    "\n",
    "        time.sleep(1)\n",
    "\n",
    "        # Try to open the port\n",
    "        ser = serial.Serial(port=port, baudrate=baudrate, timeout=1)\n",
    "        print(f\"Successfully opened {port}\")\n",
    "        return ser\n",
    "\n",
    "    except serial.SerialException as e:\n",
    "        print(f\"Failed to open {port}: {str(e)}\")\n",
    "        return None\n",
    "\n",
    "\n",
    "# Example usage\n",
    "port = \"COM3\"\n",
    "ser = force_open_serial_port(port)\n",
    "\n",
    "if ser:\n",
    "    try:\n",
    "        # Your serial operations here\n",
    "        pass\n",
    "    finally:\n",
    "        ser.close()"
   ]
  },
  {
   "cell_type": "code",
   "execution_count": 18,
   "id": "605f756e",
   "metadata": {},
   "outputs": [
    {
     "name": "stdout",
     "output_type": "stream",
     "text": [
      "failed\n",
      "failed\n",
      "[]\n"
     ]
    }
   ],
   "source": [
    "import serial, psutil\n",
    "from collections import Counter\n",
    "\n",
    "from speem.instruments.motors.drivers import MDRIVE_COMM\n",
    "\n",
    "all_ports = []\n",
    "for process in psutil.process_iter([\"pid\", \"name\"]):\n",
    "    try:\n",
    "        connections = process.net_connections()\n",
    "        all_ports.extend([connection.laddr.port for connection in connections])\n",
    "    except (psutil.NoSuchProcess, psutil.AccessDenied, psutil.ZombieProcess):\n",
    "        pass\n",
    "\n",
    "try:\n",
    "    serial.Serial(\"COM3\")\n",
    "except Exception:\n",
    "    print(\"failed\")\n",
    "del MDRIVE_COMM\n",
    "try:\n",
    "    serial.Serial(\"COM3\")\n",
    "except Exception:\n",
    "    print(\"failed\")\n",
    "\n",
    "no_mdrive_ports = []\n",
    "for process in psutil.process_iter([\"pid\", \"name\"]):\n",
    "    try:\n",
    "        connections = process.net_connections()\n",
    "        no_mdrive_ports.extend([connection.laddr.port for connection in connections])\n",
    "    except (psutil.NoSuchProcess, psutil.AccessDenied, psutil.ZombieProcess):\n",
    "        pass\n",
    "\n",
    "\n",
    "def find_missing_with_duplicates(complete_list, incomplete_list):\n",
    "    \"\"\"Find missing values accounting for duplicates\"\"\"\n",
    "    complete_counts = Counter(complete_list)\n",
    "    incomplete_counts = Counter(incomplete_list)\n",
    "\n",
    "    missing = []\n",
    "    for value, complete_count in complete_counts.items():\n",
    "        incomplete_count = incomplete_counts.get(value, 0)\n",
    "        if incomplete_count < complete_count:\n",
    "            # Add the missing occurrences\n",
    "            missing.extend([value] * (complete_count - incomplete_count))\n",
    "\n",
    "    return missing\n",
    "\n",
    "\n",
    "missing = find_missing_with_duplicates(all_ports, no_mdrive_ports)\n",
    "print(missing)"
   ]
  }
 ],
 "metadata": {
  "kernelspec": {
   "display_name": "speem",
   "language": "python",
   "name": "python3"
  },
  "language_info": {
   "codemirror_mode": {
    "name": "ipython",
    "version": 3
   },
   "file_extension": ".py",
   "mimetype": "text/x-python",
   "name": "python",
   "nbconvert_exporter": "python",
   "pygments_lexer": "ipython3",
   "version": "3.12.12"
  }
 },
 "nbformat": 4,
 "nbformat_minor": 5
}
