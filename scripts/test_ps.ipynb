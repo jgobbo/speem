{
 "cells": [
  {
   "cell_type": "code",
   "execution_count": 3,
   "id": "2b2d499e",
   "metadata": {},
   "outputs": [],
   "source": [
    "from pymodbus.client import ModbusTcpClient\n",
    "from speem.instruments.power_supply.rudi_modules_pymodbus import (\n",
    "    RudiDAC,\n",
    "    RudiHV,\n",
    "    RUDI_IP_ADDRESS,\n",
    ")"
   ]
  },
  {
   "cell_type": "code",
   "execution_count": 5,
   "id": "e090020c",
   "metadata": {},
   "outputs": [
    {
     "data": {
      "text/plain": [
       "True"
      ]
     },
     "execution_count": 5,
     "metadata": {},
     "output_type": "execute_result"
    }
   ],
   "source": [
    "rudi_tcp_client = ModbusTcpClient(RUDI_IP_ADDRESS)\n",
    "rudi_tcp_client.connect()"
   ]
  },
  {
   "cell_type": "code",
   "execution_count": 7,
   "id": "9ae08491",
   "metadata": {},
   "outputs": [],
   "source": [
    "baseline = RudiDAC(rudi_tcp_client, 33)\n",
    "V0 = RudiHV(rudi_tcp_client, 4)\n",
    "V1 = RudiHV(rudi_tcp_client, 5)\n",
    "V2 = RudiHV(rudi_tcp_client, 6)\n",
    "V3 = RudiHV(rudi_tcp_client, 7)\n",
    "V4 = RudiHV(rudi_tcp_client, 8)\n",
    "V5 = RudiHV(rudi_tcp_client, 9)\n",
    "V6 = RudiHV(rudi_tcp_client, 10)"
   ]
  },
  {
   "cell_type": "code",
   "execution_count": 14,
   "id": "a6b0ff44",
   "metadata": {},
   "outputs": [],
   "source": [
    "baseline.set_setpoint(-5)\n",
    "V0.set_setpoint(10)\n",
    "V1.set_setpoint(20)\n",
    "V2.set_setpoint(30)\n",
    "V3.set_setpoint(40)\n",
    "V4.set_setpoint(50)\n",
    "V5.set_setpoint(60)\n",
    "V6.set_setpoint(70)"
   ]
  },
  {
   "cell_type": "code",
   "execution_count": 15,
   "id": "97b0424b",
   "metadata": {},
   "outputs": [],
   "source": [
    "for v in [baseline, V0, V1, V2, V3, V4, V5, V6]:\n",
    "    v.set_setpoint(0)"
   ]
  }
 ],
 "metadata": {
  "kernelspec": {
   "display_name": "speem",
   "language": "python",
   "name": "python3"
  },
  "language_info": {
   "codemirror_mode": {
    "name": "ipython",
    "version": 3
   },
   "file_extension": ".py",
   "mimetype": "text/x-python",
   "name": "python",
   "nbconvert_exporter": "python",
   "pygments_lexer": "ipython3",
   "version": "3.11.2"
  }
 },
 "nbformat": 4,
 "nbformat_minor": 5
}
