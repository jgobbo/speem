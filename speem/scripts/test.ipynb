{
 "cells": [
  {
   "cell_type": "code",
   "execution_count": 2,
   "metadata": {},
   "outputs": [],
   "source": [
    "%load_ext autoreload"
   ]
  },
  {
   "cell_type": "code",
   "execution_count": 56,
   "metadata": {},
   "outputs": [],
   "source": [
    "%autoreload\n",
    "\n",
    "from speem.instruments.power_supply.rudi_modules import RudiDAC, RudiHV, HVMode, IP_ADDRESS, HVAddress, FloatRange\n",
    "# from pyModbusTCP.client import ModbusClient"
   ]
  },
  {
   "cell_type": "code",
   "execution_count": 28,
   "metadata": {},
   "outputs": [],
   "source": [
    "rudi = RudiHV(1)"
   ]
  },
  {
   "cell_type": "code",
   "execution_count": 22,
   "metadata": {},
   "outputs": [
    {
     "name": "stderr",
     "output_type": "stream",
     "text": [
      "Error while flushing the socket: flush_socket: maximum number of iterations reached\n"
     ]
    }
   ],
   "source": [
    "rudi.set_mode(HVMode.SHORT_OUTPUT)"
   ]
  },
  {
   "cell_type": "code",
   "execution_count": 14,
   "metadata": {},
   "outputs": [
    {
     "name": "stdout",
     "output_type": "stream",
     "text": [
      "1 : 100\n"
     ]
    }
   ],
   "source": [
    "rudi.set_setpoint(100)"
   ]
  },
  {
   "cell_type": "code",
   "execution_count": 23,
   "metadata": {},
   "outputs": [
    {
     "name": "stderr",
     "output_type": "stream",
     "text": [
      "Error while flushing the socket: flush_socket: maximum number of iterations reached\n"
     ]
    },
    {
     "name": "stdout",
     "output_type": "stream",
     "text": [
      "(2.994, 600.0)\n",
      "(4.903, 6000.0)\n"
     ]
    }
   ],
   "source": [
    "rudi.get_ranges()\n",
    "print(rudi.low_range)\n",
    "print(rudi.high_range)"
   ]
  },
  {
   "cell_type": "code",
   "execution_count": 17,
   "metadata": {},
   "outputs": [
    {
     "name": "stdout",
     "output_type": "stream",
     "text": [
      "IP: 192.168.202.4, DeviceID: 1\n",
      "Hardware version: 3.6.1, Firmware version: 8\n",
      "Voltage: 4.953 [V], Setpoint: 0.000 [V]\n",
      "Mode: Positive High\n",
      "Range: 4.953 - 6000.0 [V]\n",
      "Status: 11110001\n",
      "The HV Card is:\n",
      " - After Reset\n",
      " - Dual-band card\n",
      " - Operate\n",
      " - Output fail\n",
      " - mV Mode\n"
     ]
    }
   ],
   "source": [
    "# rudi.set_mode(HVMode.POSITIVE_LOW)\n",
    "rudi.show_info()"
   ]
  },
  {
   "cell_type": "code",
   "execution_count": 25,
   "metadata": {},
   "outputs": [
    {
     "name": "stdout",
     "output_type": "stream",
     "text": [
      "1: (2.986, 600.0), (4.953, 6000.0)\n",
      "2: (2.994, 600.0), (4.903, 6000.0)\n"
     ]
    },
    {
     "name": "stderr",
     "output_type": "stream",
     "text": [
      "2022-09-20 16:45:24.459 | WARNING  | speem.instruments.power_supply.rudi_modules:__post_init__:197 - Using default ranges for module 3.\n"
     ]
    },
    {
     "name": "stdout",
     "output_type": "stream",
     "text": [
      "3: None, (1.991, 600.0)\n"
     ]
    },
    {
     "name": "stderr",
     "output_type": "stream",
     "text": [
      "2022-09-20 16:45:24.524 | WARNING  | speem.instruments.power_supply.rudi_modules:__post_init__:197 - Using default ranges for module 4.\n"
     ]
    },
    {
     "name": "stdout",
     "output_type": "stream",
     "text": [
      "4: (0.499, 100.0), (1.999, 600.0)\n"
     ]
    },
    {
     "name": "stderr",
     "output_type": "stream",
     "text": [
      "2022-09-20 16:45:24.583 | WARNING  | speem.instruments.power_supply.rudi_modules:__post_init__:197 - Using default ranges for module 5.\n"
     ]
    },
    {
     "name": "stdout",
     "output_type": "stream",
     "text": [
      "5: (0.499, 100.0), (2.0, 600.0)\n"
     ]
    },
    {
     "name": "stderr",
     "output_type": "stream",
     "text": [
      "2022-09-20 16:45:24.644 | WARNING  | speem.instruments.power_supply.rudi_modules:__post_init__:197 - Using default ranges for module 6.\n"
     ]
    },
    {
     "name": "stdout",
     "output_type": "stream",
     "text": [
      "6: (0.499, 100.0), (1.999, 600.0)\n"
     ]
    },
    {
     "name": "stderr",
     "output_type": "stream",
     "text": [
      "2022-09-20 16:45:24.704 | WARNING  | speem.instruments.power_supply.rudi_modules:__post_init__:197 - Using default ranges for module 7.\n"
     ]
    },
    {
     "name": "stdout",
     "output_type": "stream",
     "text": [
      "7: (0.496, 100.0), (1.988, 600.0)\n"
     ]
    },
    {
     "name": "stderr",
     "output_type": "stream",
     "text": [
      "2022-09-20 16:45:24.774 | WARNING  | speem.instruments.power_supply.rudi_modules:__post_init__:197 - Using default ranges for module 8.\n"
     ]
    },
    {
     "name": "stdout",
     "output_type": "stream",
     "text": [
      "8: (0.499, 100.0), (1.999, 600.0)\n"
     ]
    },
    {
     "name": "stderr",
     "output_type": "stream",
     "text": [
      "2022-09-20 16:45:24.834 | WARNING  | speem.instruments.power_supply.rudi_modules:__post_init__:197 - Using default ranges for module 9.\n"
     ]
    },
    {
     "name": "stdout",
     "output_type": "stream",
     "text": [
      "9: (0.499, 100.0), (1.994, 600.0)\n"
     ]
    },
    {
     "name": "stderr",
     "output_type": "stream",
     "text": [
      "2022-09-20 16:45:24.894 | WARNING  | speem.instruments.power_supply.rudi_modules:__post_init__:197 - Using default ranges for module 10.\n"
     ]
    },
    {
     "name": "stdout",
     "output_type": "stream",
     "text": [
      "10: (0.5, 100.0), (1.995, 600.0)\n"
     ]
    },
    {
     "name": "stderr",
     "output_type": "stream",
     "text": [
      "2022-09-20 16:45:24.979 | WARNING  | speem.instruments.power_supply.rudi_modules:__post_init__:197 - Using default ranges for module 11.\n"
     ]
    },
    {
     "name": "stdout",
     "output_type": "stream",
     "text": [
      "11: (0.5, 100.0), (1.994, 600.0)\n"
     ]
    },
    {
     "name": "stderr",
     "output_type": "stream",
     "text": [
      "2022-09-20 16:45:25.054 | WARNING  | speem.instruments.power_supply.rudi_modules:__post_init__:197 - Using default ranges for module 12.\n"
     ]
    },
    {
     "name": "stdout",
     "output_type": "stream",
     "text": [
      "12: (0.5, 100.0), (1.994, 600.0)\n"
     ]
    },
    {
     "name": "stderr",
     "output_type": "stream",
     "text": [
      "2022-09-20 16:45:25.114 | WARNING  | speem.instruments.power_supply.rudi_modules:__post_init__:197 - Using default ranges for module 13.\n"
     ]
    },
    {
     "name": "stdout",
     "output_type": "stream",
     "text": [
      "13: (0.5, 100.0), (1.993, 600.0)\n"
     ]
    },
    {
     "name": "stderr",
     "output_type": "stream",
     "text": [
      "2022-09-20 16:45:25.195 | WARNING  | speem.instruments.power_supply.rudi_modules:__post_init__:197 - Using default ranges for module 14.\n"
     ]
    },
    {
     "name": "stdout",
     "output_type": "stream",
     "text": [
      "14: (0.499, 100.0), (1.996, 600.0)\n"
     ]
    },
    {
     "name": "stderr",
     "output_type": "stream",
     "text": [
      "2022-09-20 16:45:25.275 | WARNING  | speem.instruments.power_supply.rudi_modules:__post_init__:197 - Using default ranges for module 15.\n"
     ]
    },
    {
     "name": "stdout",
     "output_type": "stream",
     "text": [
      "15: (0.5, 100.0), (1.994, 600.0)\n"
     ]
    },
    {
     "name": "stderr",
     "output_type": "stream",
     "text": [
      "2022-09-20 16:45:25.335 | WARNING  | speem.instruments.power_supply.rudi_modules:__post_init__:197 - Using default ranges for module 16.\n"
     ]
    },
    {
     "name": "stdout",
     "output_type": "stream",
     "text": [
      "16: (0.499, 100.0), (1.998, 600.0)\n"
     ]
    }
   ],
   "source": [
    "for i in range(1,17,1):\n",
    "    rudi = RudiHV(i)\n",
    "    rudi.set_mode(HVMode.SHORT_OUTPUT)\n",
    "    rudi.get_ranges()\n",
    "\n",
    "    print(f\"{i}: {rudi.low_range}, {rudi.high_range}\")"
   ]
  },
  {
   "cell_type": "code",
   "execution_count": 61,
   "metadata": {},
   "outputs": [
    {
     "name": "stdout",
     "output_type": "stream",
     "text": [
      "0, 1.5\n",
      "1, 1.5\n",
      "2, 2\n",
      "3, 3\n",
      "4, 3.4\n",
      "5, 3.4\n"
     ]
    }
   ],
   "source": [
    "range = FloatRange(1.5, 3.4)\n",
    "\n",
    "for i in [0,1,2,3,4,5]:\n",
    "    print(f\"{i}, {range.clamp(i)}\")"
   ]
  },
  {
   "cell_type": "code",
   "execution_count": null,
   "metadata": {},
   "outputs": [],
   "source": []
  }
 ],
 "metadata": {
  "kernelspec": {
   "display_name": "Python 3.9.12 ('speem')",
   "language": "python",
   "name": "python3"
  },
  "language_info": {
   "codemirror_mode": {
    "name": "ipython",
    "version": 3
   },
   "file_extension": ".py",
   "mimetype": "text/x-python",
   "name": "python",
   "nbconvert_exporter": "python",
   "pygments_lexer": "ipython3",
   "version": "3.9.12"
  },
  "orig_nbformat": 4,
  "vscode": {
   "interpreter": {
    "hash": "4d0e5a1ec692cf2746541824ec10ac6a423ecb87d0d1f65b18d969f568585bc3"
   }
  }
 },
 "nbformat": 4,
 "nbformat_minor": 2
}
