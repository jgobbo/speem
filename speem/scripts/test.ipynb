{
 "cells": [
  {
   "cell_type": "code",
   "execution_count": 22,
   "metadata": {},
   "outputs": [
    {
     "name": "stdout",
     "output_type": "stream",
     "text": [
      "The autoreload extension is already loaded. To reload it, use:\n",
      "  %reload_ext autoreload\n"
     ]
    }
   ],
   "source": [
    "%load_ext autoreload"
   ]
  },
  {
   "cell_type": "code",
   "execution_count": 26,
   "metadata": {},
   "outputs": [],
   "source": [
    "%autoreload\n",
    "\n",
    "import asyncio\n",
    "from pymodbus.client import ModbusTcpClient\n",
    "from speem.instruments.power_supply.rudi_modules_pymodbus import *\n",
    "from speem.instruments.power_supply.rudi_modules_pymodbus import HVMode\n",
    "\n",
    "client = ModbusTcpClient(RUDI_IP_ADDRESS)\n",
    "client.connect()\n",
    "module = RudiHV(client, 4)"
   ]
  },
  {
   "cell_type": "code",
   "execution_count": 33,
   "metadata": {},
   "outputs": [
    {
     "data": {
      "text/plain": [
       "0.499"
      ]
     },
     "execution_count": 33,
     "metadata": {},
     "output_type": "execute_result"
    }
   ],
   "source": [
    "# module.set_mode(HVMode.POSITIVE_LOW)\n",
    "module.get_voltage()"
   ]
  },
  {
   "cell_type": "code",
   "execution_count": 36,
   "metadata": {},
   "outputs": [],
   "source": [
    "module.client.close()"
   ]
  },
  {
   "cell_type": "code",
   "execution_count": 1,
   "metadata": {},
   "outputs": [
    {
     "name": "stdout",
     "output_type": "stream",
     "text": [
      "b'  131.243.163.255       ff-ff-ff-ff-ff-ff     static    \\r\\n  255.255.255.255       ff-ff-ff-ff-ff-ff     static    \\r\\n  192.168.255.255       ff-ff-ff-ff-ff-ff     static    \\r\\n  255.255.255.255       ff-ff-ff-ff-ff-ff     static    \\r\\n  192.168.255.255       ff-ff-ff-ff-ff-ff     static    \\r\\n  255.255.255.255       ff-ff-ff-ff-ff-ff     static    \\r\\n  192.168.255.255       ff-ff-ff-ff-ff-ff     static    \\r\\n  255.255.255.255       ff-ff-ff-ff-ff-ff     static    \\r\\n'\n",
      "131.243.163.255\n"
     ]
    }
   ],
   "source": [
    "import subprocess\n",
    "import xml.etree.ElementTree as ET\n",
    "\n",
    "\n",
    "def scan_for_hosts(ip_range):\n",
    "    \"\"\"Scan the given IP address range using Nmap and return the result\n",
    "    in XML format.\n",
    "    \"\"\"\n",
    "    nmap_args = ['nmap', '-n', '-sP', '-oX', '-', ip_range]\n",
    "    return subprocess.check_output(nmap_args)\n",
    "\n",
    "\n",
    "def find_ip_address_for_mac_address(xml, mac_address):\n",
    "    \"\"\"Parse Nmap's XML output, find the host element with the given\n",
    "    MAC address, and return that host's IP address (or `None` if no\n",
    "    match was found).\n",
    "    \"\"\"\n",
    "    host_elems = ET.fromstring(xml).iter('host')\n",
    "    host_elem = find_host_with_mac_address(host_elems, mac_address)\n",
    "    if host_elem is not None:\n",
    "        return find_ip_address(host_elem)\n",
    "\n",
    "\n",
    "def find_host_with_mac_address(host_elems, mac_address):\n",
    "    \"\"\"Return the first host element that contains the MAC address.\"\"\"\n",
    "    for host_elem in host_elems:\n",
    "        if host_has_mac_address(host_elem, mac_address):\n",
    "            return host_elem\n",
    "\n",
    "\n",
    "def host_has_mac_address(host_elem, wanted_mac_address):\n",
    "    \"\"\"Return true if the host has the given MAC address.\"\"\"\n",
    "    found_mac_address = find_mac_address(host_elem)\n",
    "    return (\n",
    "        found_mac_address is not None and\n",
    "        found_mac_address.lower() == wanted_mac_address.lower()\n",
    "    )\n",
    "\n",
    "\n",
    "def find_mac_address(host_elem):\n",
    "    \"\"\"Return the host's MAC address.\"\"\"\n",
    "    return find_address_of_type(host_elem, 'mac')\n",
    "\n",
    "\n",
    "def find_ip_address(host_elem):\n",
    "    \"\"\"Return the host's IP address.\"\"\"\n",
    "    return find_address_of_type(host_elem, 'ipv4')\n",
    "\n",
    "\n",
    "def find_address_of_type(host_elem, type_):\n",
    "    \"\"\"Return the host's address of the given type, or `None` if there\n",
    "    is no address element of that type.\n",
    "    \"\"\"\n",
    "    address_elem = host_elem.find('./address[@addrtype=\"{}\"]'.format(type_))\n",
    "    if address_elem is not None:\n",
    "        return address_elem.get('addr')\n",
    "\n",
    "\n",
    "if __name__ == '__main__':\n",
    "    mac_address = '00:33:66:99:cc:ff'\n",
    "    ip_range = '192.168.1.1-255'\n",
    "\n",
    "    xml = scan_for_hosts(ip_range)\n",
    "    ip_address = find_ip_address_for_mac_address(xml, mac_address)\n",
    "\n",
    "    if ip_address:\n",
    "        print('Found IP address {} for MAC address {} in IP address range {}.'\n",
    "              .format(ip_address, mac_address, ip_range))\n",
    "    else:\n",
    "        print('No IP address found for MAC address {} in IP address range {}.'\n",
    "              .format(mac_address, ip_range))import subprocess\n",
    "import xml.etree.ElementTree as ET\n",
    "\n",
    "def find_ip_address_for_mac_address(xml, mac_address):\n",
    "    \"\"\"Parse Nmap's XML output, find the host element with the given\n",
    "    MAC address, and return that host's IP address (or `None` if no\n",
    "    match was found).\n",
    "    \"\"\"\n",
    "    host_elems = ET.fromstring(xml).iter('host')\n",
    "    host_elem = find_host_with_mac_address(host_elems, mac_address)\n",
    "    if host_elem is not None:\n",
    "        return find_ip_address(host_elem)\n",
    "\n",
    "def find_ip_address(host_elem):\n",
    "    \"\"\"Return the host's IP address.\"\"\"\n",
    "    return find_address_of_type(host_elem, 'ipv4')"
   ]
  },
  {
   "cell_type": "code",
   "execution_count": null,
   "metadata": {},
   "outputs": [],
   "source": []
  }
 ],
 "metadata": {
  "kernelspec": {
   "display_name": "Python 3.9.12 ('speem')",
   "language": "python",
   "name": "python3"
  },
  "language_info": {
   "codemirror_mode": {
    "name": "ipython",
    "version": 3
   },
   "file_extension": ".py",
   "mimetype": "text/x-python",
   "name": "python",
   "nbconvert_exporter": "python",
   "pygments_lexer": "ipython3",
   "version": "3.9.16"
  },
  "orig_nbformat": 4,
  "vscode": {
   "interpreter": {
    "hash": "4d0e5a1ec692cf2746541824ec10ac6a423ecb87d0d1f65b18d969f568585bc3"
   }
  }
 },
 "nbformat": 4,
 "nbformat_minor": 2
}
