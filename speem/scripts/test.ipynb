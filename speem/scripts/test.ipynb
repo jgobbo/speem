{
 "cells": [
  {
   "cell_type": "code",
   "execution_count": 8,
   "metadata": {},
   "outputs": [
    {
     "name": "stdout",
     "output_type": "stream",
     "text": [
      "The autoreload extension is already loaded. To reload it, use:\n",
      "  %reload_ext autoreload\n"
     ]
    }
   ],
   "source": [
    "%load_ext autoreload"
   ]
  },
  {
   "cell_type": "code",
   "execution_count": 114,
   "metadata": {},
   "outputs": [],
   "source": [
    "%autoreload\n",
    "\n",
    "from speem.instruments.power_supply.rudi_modules import RudiDAC, RudiHV, HVMode\n",
    "import time"
   ]
  },
  {
   "cell_type": "code",
   "execution_count": 115,
   "metadata": {},
   "outputs": [],
   "source": [
    "rudi = RudiHV(7)\n"
   ]
  },
  {
   "cell_type": "code",
   "execution_count": 122,
   "metadata": {},
   "outputs": [
    {
     "name": "stderr",
     "output_type": "stream",
     "text": [
      "Error while flushing the socket: flush_socket: maximum number of iterations reached\n"
     ]
    }
   ],
   "source": [
    "rudi.set_setpoint(0)"
   ]
  },
  {
   "cell_type": "code",
   "execution_count": 121,
   "metadata": {},
   "outputs": [
    {
     "name": "stderr",
     "output_type": "stream",
     "text": [
      "Error while flushing the socket: flush_socket: maximum number of iterations reached\n"
     ]
    },
    {
     "ename": "ModbusError",
     "evalue": "Modbus Error: Exception code = 4",
     "output_type": "error",
     "traceback": [
      "\u001b[1;31m---------------------------------------------------------------------------\u001b[0m",
      "\u001b[1;31mModbusError\u001b[0m                               Traceback (most recent call last)",
      "\u001b[1;32mc:\\Users\\SPEEM\\Documents\\speem\\speem\\scripts\\test.ipynb Cell 5\u001b[0m in \u001b[0;36m<cell line: 1>\u001b[1;34m()\u001b[0m\n\u001b[1;32m----> <a href='vscode-notebook-cell:/c%3A/Users/SPEEM/Documents/speem/speem/scripts/test.ipynb#W2sZmlsZQ%3D%3D?line=0'>1</a>\u001b[0m rudi\u001b[39m.\u001b[39;49m_set_setpoint(\u001b[39m110\u001b[39;49m)\n",
      "File \u001b[1;32mc:\\users\\speem\\documents\\speem\\speem\\instruments\\power_supply\\rudi_modules.py:219\u001b[0m, in \u001b[0;36mRudiHV._set_setpoint\u001b[1;34m(self, voltage)\u001b[0m\n\u001b[0;32m    217\u001b[0m \u001b[39mdef\u001b[39;00m \u001b[39m_set_setpoint\u001b[39m(\u001b[39mself\u001b[39m, voltage: \u001b[39mfloat\u001b[39m) \u001b[39m-\u001b[39m\u001b[39m>\u001b[39m \u001b[39mNone\u001b[39;00m:\n\u001b[0;32m    218\u001b[0m     data \u001b[39m=\u001b[39m \u001b[39mhex\u001b[39m(\u001b[39mint\u001b[39m(voltage \u001b[39m*\u001b[39m \u001b[39m16\u001b[39m \u001b[39m*\u001b[39m (\u001b[39m10\u001b[39m \u001b[39m*\u001b[39m\u001b[39m*\u001b[39m \u001b[39m3\u001b[39m)) \u001b[39m&\u001b[39m (\u001b[39m2\u001b[39m \u001b[39m*\u001b[39m\u001b[39m*\u001b[39m \u001b[39m32\u001b[39m \u001b[39m-\u001b[39m \u001b[39m1\u001b[39m))[\u001b[39m2\u001b[39m:]\u001b[39m.\u001b[39mzfill(\u001b[39m9\u001b[39m)\n\u001b[1;32m--> 219\u001b[0m     \u001b[39mself\u001b[39;49m\u001b[39m.\u001b[39;49mmaster\u001b[39m.\u001b[39;49mexecute(\n\u001b[0;32m    220\u001b[0m         \u001b[39mself\u001b[39;49m\u001b[39m.\u001b[39;49mmodule_address,\n\u001b[0;32m    221\u001b[0m         cst\u001b[39m.\u001b[39;49mWRITE_MULTIPLE_REGISTERS,\n\u001b[0;32m    222\u001b[0m         \u001b[39mself\u001b[39;49m\u001b[39m.\u001b[39;49moffsets\u001b[39m.\u001b[39;49mVOLTAGE_SETPOINT_offset,\n\u001b[0;32m    223\u001b[0m         output_value\u001b[39m=\u001b[39;49m[\u001b[39mint\u001b[39;49m(data[\u001b[39m0\u001b[39;49m:\u001b[39m4\u001b[39;49m], \u001b[39m16\u001b[39;49m), \u001b[39mint\u001b[39;49m(data[\u001b[39m4\u001b[39;49m:\u001b[39m8\u001b[39;49m], \u001b[39m16\u001b[39;49m)],\n\u001b[0;32m    224\u001b[0m     )\n",
      "File \u001b[1;32mc:\\Users\\SPEEM\\miniconda3\\envs\\speem\\lib\\site-packages\\modbus_tk\\utils.py:39\u001b[0m, in \u001b[0;36mthreadsafe_function.<locals>.new\u001b[1;34m(*args, **kwargs)\u001b[0m\n\u001b[0;32m     37\u001b[0m     ret \u001b[39m=\u001b[39m fcn(\u001b[39m*\u001b[39margs, \u001b[39m*\u001b[39m\u001b[39m*\u001b[39mkwargs)\n\u001b[0;32m     38\u001b[0m \u001b[39mexcept\u001b[39;00m \u001b[39mException\u001b[39;00m \u001b[39mas\u001b[39;00m excpt:\n\u001b[1;32m---> 39\u001b[0m     \u001b[39mraise\u001b[39;00m excpt\n\u001b[0;32m     40\u001b[0m \u001b[39mfinally\u001b[39;00m:\n\u001b[0;32m     41\u001b[0m     \u001b[39mif\u001b[39;00m threadsafe:\n",
      "File \u001b[1;32mc:\\Users\\SPEEM\\miniconda3\\envs\\speem\\lib\\site-packages\\modbus_tk\\utils.py:37\u001b[0m, in \u001b[0;36mthreadsafe_function.<locals>.new\u001b[1;34m(*args, **kwargs)\u001b[0m\n\u001b[0;32m     35\u001b[0m     lock\u001b[39m.\u001b[39macquire()\n\u001b[0;32m     36\u001b[0m \u001b[39mtry\u001b[39;00m:\n\u001b[1;32m---> 37\u001b[0m     ret \u001b[39m=\u001b[39m fcn(\u001b[39m*\u001b[39margs, \u001b[39m*\u001b[39m\u001b[39m*\u001b[39mkwargs)\n\u001b[0;32m     38\u001b[0m \u001b[39mexcept\u001b[39;00m \u001b[39mException\u001b[39;00m \u001b[39mas\u001b[39;00m excpt:\n\u001b[0;32m     39\u001b[0m     \u001b[39mraise\u001b[39;00m excpt\n",
      "File \u001b[1;32mc:\\Users\\SPEEM\\miniconda3\\envs\\speem\\lib\\site-packages\\modbus_tk\\modbus.py:314\u001b[0m, in \u001b[0;36mMaster.execute\u001b[1;34m(self, slave, function_code, starting_address, quantity_of_x, output_value, data_format, expected_length, write_starting_address_FC23)\u001b[0m\n\u001b[0;32m    311\u001b[0m \u001b[39mif\u001b[39;00m return_code \u001b[39m>\u001b[39m \u001b[39m0x80\u001b[39m:\n\u001b[0;32m    312\u001b[0m     \u001b[39m# the slave has returned an error\u001b[39;00m\n\u001b[0;32m    313\u001b[0m     exception_code \u001b[39m=\u001b[39m byte_2\n\u001b[1;32m--> 314\u001b[0m     \u001b[39mraise\u001b[39;00m ModbusError(exception_code)\n\u001b[0;32m    315\u001b[0m \u001b[39melse\u001b[39;00m:\n\u001b[0;32m    316\u001b[0m     \u001b[39mif\u001b[39;00m is_read_function:\n\u001b[0;32m    317\u001b[0m         \u001b[39m# get the values returned by the reading function\u001b[39;00m\n",
      "\u001b[1;31mModbusError\u001b[0m: Modbus Error: Exception code = 4"
     ]
    }
   ],
   "source": []
  },
  {
   "cell_type": "code",
   "execution_count": 112,
   "metadata": {},
   "outputs": [
    {
     "data": {
      "text/plain": [
       "False"
      ]
     },
     "execution_count": 112,
     "metadata": {},
     "output_type": "execute_result"
    }
   ],
   "source": [
    "0<0"
   ]
  },
  {
   "cell_type": "code",
   "execution_count": 113,
   "metadata": {},
   "outputs": [
    {
     "data": {
      "text/plain": [
       "False"
      ]
     },
     "execution_count": 113,
     "metadata": {},
     "output_type": "execute_result"
    }
   ],
   "source": [
    "0>0"
   ]
  },
  {
   "cell_type": "code",
   "execution_count": null,
   "metadata": {},
   "outputs": [],
   "source": []
  }
 ],
 "metadata": {
  "kernelspec": {
   "display_name": "Python 3.9.12 ('speem')",
   "language": "python",
   "name": "python3"
  },
  "language_info": {
   "codemirror_mode": {
    "name": "ipython",
    "version": 3
   },
   "file_extension": ".py",
   "mimetype": "text/x-python",
   "name": "python",
   "nbconvert_exporter": "python",
   "pygments_lexer": "ipython3",
   "version": "3.9.12"
  },
  "orig_nbformat": 4,
  "vscode": {
   "interpreter": {
    "hash": "4d0e5a1ec692cf2746541824ec10ac6a423ecb87d0d1f65b18d969f568585bc3"
   }
  }
 },
 "nbformat": 4,
 "nbformat_minor": 2
}
