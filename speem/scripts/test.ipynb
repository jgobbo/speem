{
 "cells": [
  {
   "cell_type": "code",
   "execution_count": 1,
   "metadata": {},
   "outputs": [],
   "source": [
    "%load_ext autoreload"
   ]
  },
  {
   "cell_type": "code",
   "execution_count": 19,
   "metadata": {},
   "outputs": [],
   "source": [
    "%autoreload\n",
    "\n",
    "from instruments.srs.srsdg645 import SRSDG645\n",
    "import instruments.units as u"
   ]
  },
  {
   "cell_type": "code",
   "execution_count": 10,
   "metadata": {},
   "outputs": [],
   "source": [
    "DG645_ADDRESS = \"130.102.202.2\"\n",
    "DG645_BARE_SOCKET_PORT = 5025\n",
    "DG645_TELNET_PORT = 5024\n",
    "delay_generator = SRSDG645.open_tcpip(\n",
    "            DG645_ADDRESS, DG645_BARE_SOCKET_PORT\n",
    "        )"
   ]
  },
  {
   "cell_type": "code",
   "execution_count": 8,
   "metadata": {},
   "outputs": [],
   "source": [
    "delay_generator.trigger_source = (\n",
    "    delay_generator.TriggerSource.external_rising\n",
    ")"
   ]
  },
  {
   "cell_type": "code",
   "execution_count": 20,
   "metadata": {},
   "outputs": [],
   "source": [
    "delay_generator.channel[\"D\"].delay = (\n",
    "    delay_generator.channel[\"C\"], 10 * u.ns,\n",
    ")"
   ]
  },
  {
   "cell_type": "code",
   "execution_count": 11,
   "metadata": {},
   "outputs": [],
   "source": [
    "delay_generator.output[\"CD\"].level_amplitude = 1"
   ]
  },
  {
   "cell_type": "code",
   "execution_count": 12,
   "metadata": {},
   "outputs": [],
   "source": [
    "delay_generator.output[\"CD\"].level_offset = -1.09"
   ]
  },
  {
   "cell_type": "code",
   "execution_count": 13,
   "metadata": {},
   "outputs": [],
   "source": [
    "delay_generator.output[\n",
    "    \"CD\"\n",
    "].polarity = delay_generator.LevelPolarity.negative"
   ]
  },
  {
   "cell_type": "code",
   "execution_count": 15,
   "metadata": {},
   "outputs": [
    {
     "name": "stdout",
     "output_type": "stream",
     "text": [
      "(<Channels.T0: 0>, <Quantity(1.227e-06, 'second')>)\n"
     ]
    }
   ],
   "source": [
    "print(delay_generator.channel[\"C\"].delay)"
   ]
  },
  {
   "cell_type": "code",
   "execution_count": null,
   "metadata": {},
   "outputs": [],
   "source": []
  }
 ],
 "metadata": {
  "kernelspec": {
   "display_name": "Python 3.9.12 ('speem')",
   "language": "python",
   "name": "python3"
  },
  "language_info": {
   "codemirror_mode": {
    "name": "ipython",
    "version": 3
   },
   "file_extension": ".py",
   "mimetype": "text/x-python",
   "name": "python",
   "nbconvert_exporter": "python",
   "pygments_lexer": "ipython3",
   "version": "3.11.2"
  },
  "orig_nbformat": 4,
  "vscode": {
   "interpreter": {
    "hash": "4d0e5a1ec692cf2746541824ec10ac6a423ecb87d0d1f65b18d969f568585bc3"
   }
  }
 },
 "nbformat": 4,
 "nbformat_minor": 2
}
